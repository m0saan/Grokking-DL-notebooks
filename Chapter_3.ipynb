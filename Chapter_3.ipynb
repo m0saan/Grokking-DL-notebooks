{
 "cells": [
  {
   "cell_type": "code",
   "execution_count": 68,
   "id": "3e47df50",
   "metadata": {},
   "outputs": [],
   "source": [
    "import torch\n",
    "import numpy as np\n",
    "import pandas as pd\n",
    "import sklearn\n",
    "import matplotlib.pyplot as plt"
   ]
  },
  {
   "cell_type": "markdown",
   "id": "6f9c4828",
   "metadata": {},
   "source": [
    "## Here is my first neural network."
   ]
  },
  {
   "cell_type": "markdown",
   "id": "bf7f5f09",
   "metadata": {},
   "source": [
    "The interface for the neural network is simple: it accepts an input variable as information and a weights variable as knowledge, and it outputs a prediction."
   ]
  },
  {
   "cell_type": "code",
   "execution_count": 69,
   "id": "eb89b976",
   "metadata": {},
   "outputs": [],
   "source": [
    "weight = 0.1\n",
    "number_of_toes = [8.5, 9.5, 10, 9]\n",
    "x = number_of_toes[0]\n",
    "\n",
    "def neural_network(x, weight):\n",
    "    pred = x * weight\n",
    "    return pred"
   ]
  },
  {
   "cell_type": "code",
   "execution_count": 70,
   "id": "35a471e3",
   "metadata": {},
   "outputs": [
    {
     "name": "stdout",
     "output_type": "stream",
     "text": [
      "prediction: 0.85\n"
     ]
    }
   ],
   "source": [
    "prediction = neural_network(x, weight)\n",
    "print('prediction: %.2f' % prediction)"
   ]
  },
  {
   "cell_type": "markdown",
   "id": "833ca69a",
   "metadata": {},
   "source": [
    "## Making a prediction with multiple inputs"
   ]
  },
  {
   "cell_type": "code",
   "execution_count": 71,
   "id": "36af80a9",
   "metadata": {},
   "outputs": [],
   "source": [
    "# Performing a weighted sum of inputs\n",
    "def w_sum(a, b):\n",
    "    assert(len(a) == len(b))\n",
    "    output = 0.0\n",
    "    for i in range(len(a)):\n",
    "        output += (a[i] * b[i])\n",
    "    return output"
   ]
  },
  {
   "cell_type": "code",
   "execution_count": 72,
   "id": "31789902",
   "metadata": {},
   "outputs": [
    {
     "name": "stdout",
     "output_type": "stream",
     "text": [
      "0.98\n"
     ]
    }
   ],
   "source": [
    "weights = [0.1, 0.2, 0]\n",
    "\n",
    "# This new neural network can accept multiple inputs at a time per prediction.\n",
    "# This allows the network to combine various forms of information to make better-informed decisions.\n",
    "# But the fundamental mechanism for using weights hasn’t changed.\n",
    "# You still take each input and run it through its own volume knob.\n",
    "# In other words, you multiply each input by its own weight.\n",
    "def neural_network(x, weights):\n",
    "    pred = w_sum(x, weights)\n",
    "    return pred\n",
    "\n",
    "toes = [8.5, 9.5, 9.9, 9.0]\n",
    "wlrec = [0.65, 0.8, 0.8, 0.9]\n",
    "nfans = [1.2, 1.3, 0.5, 1.0]\n",
    "\n",
    "x = [toes[0], wlrec[0], nfans[0]]\n",
    "pred = neural_network(x, weights)\n",
    "print('%.2f' % pred)"
   ]
  },
  {
   "cell_type": "markdown",
   "id": "292bb718",
   "metadata": {},
   "source": [
    "The new property here is that, because you have multiple inputs, you have to sum their respective predictions. Thus, you multiply each input by its respective weight and then sum all the local predictions together. This is called a weighted sum of the input, or a weighted sum for short. Some also refer to the weighted sum as a dot product, as you’ll see."
   ]
  },
  {
   "cell_type": "markdown",
   "id": "c9c6bc97",
   "metadata": {},
   "source": [
    "## Vector math"
   ]
  },
  {
   "cell_type": "code",
   "execution_count": 73,
   "id": "81c02c95",
   "metadata": {},
   "outputs": [],
   "source": [
    "def elementwise_multiplication(vec_a,vec_b):\n",
    "    assert(len(vec_a) == len(vec_b))\n",
    "    \n",
    "    out = []\n",
    "    for i in range(len(vec_a)):\n",
    "        out.append(vec_a[i] * vec_b[i])\n",
    "    return out\n",
    "\n",
    "def elementwise_addition(vec_a,vec_b):\n",
    "    assert(len(vec_a) == len(vec_b))\n",
    "    \n",
    "    out = []\n",
    "    for i in range(len(vec_a)):\n",
    "        out.append(vec_a[i] + vec_b[i])\n",
    "    return out\n",
    "\n",
    "\n",
    "def vector_sum(vec_a):\n",
    "    _sum = 0.0\n",
    "    for i in range(len(vec_a)):\n",
    "        _sum += vec_a[i]\n",
    "    return _sum\n",
    "\n",
    "def vector_average(vec_a):\n",
    "    return vector_sum(vec_a) / len(vec_a)"
   ]
  },
  {
   "cell_type": "code",
   "execution_count": 74,
   "id": "fb0832f9",
   "metadata": {},
   "outputs": [],
   "source": [
    "a = [1,2,3]\n",
    "b = [3,2,1]"
   ]
  },
  {
   "cell_type": "code",
   "execution_count": 75,
   "id": "6d86cfcb",
   "metadata": {},
   "outputs": [
    {
     "name": "stdout",
     "output_type": "stream",
     "text": [
      "[3, 4, 3]\n"
     ]
    }
   ],
   "source": [
    "out = elementwise_multiplication(a, b)\n",
    "print(out)"
   ]
  },
  {
   "cell_type": "code",
   "execution_count": 76,
   "id": "9c3831fc",
   "metadata": {},
   "outputs": [
    {
     "data": {
      "text/plain": [
       "[4, 4, 4]"
      ]
     },
     "execution_count": 76,
     "metadata": {},
     "output_type": "execute_result"
    }
   ],
   "source": [
    "elementwise_addition(a, b)"
   ]
  },
  {
   "cell_type": "code",
   "execution_count": 77,
   "id": "d2c6fcb0",
   "metadata": {},
   "outputs": [
    {
     "data": {
      "text/plain": [
       "6.0"
      ]
     },
     "execution_count": 77,
     "metadata": {},
     "output_type": "execute_result"
    }
   ],
   "source": [
    "vector_sum(a)"
   ]
  },
  {
   "cell_type": "code",
   "execution_count": 78,
   "id": "ee9ece4d",
   "metadata": {},
   "outputs": [
    {
     "data": {
      "text/plain": [
       "2.0"
      ]
     },
     "execution_count": 78,
     "metadata": {},
     "output_type": "execute_result"
    }
   ],
   "source": [
    "vector_average(a)"
   ]
  },
  {
   "cell_type": "code",
   "execution_count": 79,
   "id": "315c9125",
   "metadata": {},
   "outputs": [],
   "source": [
    "def weighted_sum(a, b):\n",
    "    mul = elementwise_multiplication(a, b)\n",
    "    return vector_sum(mul)\n",
    "\n",
    "def neural_network(x, weights):\n",
    "    pred = weighted_sum(x, weights)\n",
    "    return pred"
   ]
  },
  {
   "cell_type": "code",
   "execution_count": 80,
   "id": "9eaa1400",
   "metadata": {},
   "outputs": [
    {
     "name": "stdout",
     "output_type": "stream",
     "text": [
      "prediction: 0.98\n"
     ]
    }
   ],
   "source": [
    "pred = neural_network(x, weights)\n",
    "print('prediction: %.2f' % pred)"
   ]
  },
  {
   "cell_type": "code",
   "execution_count": 87,
   "id": "354b7f6d",
   "metadata": {},
   "outputs": [
    {
     "name": "stdout",
     "output_type": "stream",
     "text": [
      "0.98\n"
     ]
    }
   ],
   "source": [
    "import numpy as np\n",
    "\n",
    "weights = np.array([0.1, 0.2, 0])\n",
    "\n",
    "def neural_network(_input, weights):\n",
    "    pred = _input.dot(weights)\n",
    "    return pred\n",
    "\n",
    "toes = np.array([8.5, 9.5, 9.9, 9.0])\n",
    "wlrec = np.array([0.65, 0.8, 0.8, 0.9])\n",
    "nfans = np.array([1.2, 1.3, 0.5, 1.0])\n",
    "\n",
    "_input = np.array([toes[0],wlrec[0],nfans[0]])\n",
    "pred = neural_network(_input,weights)\n",
    "print('%.2f' % pred)"
   ]
  },
  {
   "cell_type": "markdown",
   "id": "dbd8125c",
   "metadata": {},
   "source": [
    "## Predicting with multiple inputs and outputs"
   ]
  },
  {
   "cell_type": "code",
   "execution_count": 102,
   "id": "db6743e4",
   "metadata": {},
   "outputs": [],
   "source": [
    "def vect_mat_mul(vect, matrix):\n",
    "    assert(len(vect) == len(matrix))\n",
    "    output = [0,0,0]\n",
    "    \n",
    "    for i in range(len(vect)):\n",
    "        output[i] = w_sum(vect, matrix[i])\n",
    "    return output"
   ]
  },
  {
   "cell_type": "code",
   "execution_count": 110,
   "id": "6b20803c",
   "metadata": {},
   "outputs": [],
   "source": [
    "weights = [\n",
    "    [0.1, 0.1, -0.3], # hurt?\n",
    "    [0.1, 0.2, 0.0], # win?\n",
    "    [0.0, 1.3, 0.1], # sad?\n",
    "]\n",
    "\n",
    "def neural_network(x, weights):\n",
    "    pred = vect_mat_mul(x, weights)\n",
    "    return pred\n"
   ]
  },
  {
   "cell_type": "code",
   "execution_count": 113,
   "id": "c9bbfe16",
   "metadata": {},
   "outputs": [],
   "source": [
    "toes = [8.5, 9.5, 9.9, 9.0]\n",
    "wlrec = [0.65,0.8, 0.8, 0.9]\n",
    "nfans = [1.2, 1.3, 0.5, 1.0]\n",
    "\n",
    "X = [\n",
    "    [8.5, 9.5, 9.9, 9.0],\n",
    "    [0.65,0.8, 0.8, 0.9],\n",
    "    [1.2, 1.3, 0.5, 1.0],\n",
    "]"
   ]
  },
  {
   "cell_type": "code",
   "execution_count": 116,
   "id": "feb9f400",
   "metadata": {},
   "outputs": [
    {
     "name": "stdout",
     "output_type": "stream",
     "text": [
      "[0.555, 0.9800000000000001, 0.9650000000000001]\n"
     ]
    }
   ],
   "source": [
    "x = [toes[0],wlrec[0],nfans[0]]\n",
    "pred = neural_network(x,weights)\n",
    "print(pred)"
   ]
  },
  {
   "cell_type": "code",
   "execution_count": 117,
   "id": "16545fb4",
   "metadata": {},
   "outputs": [
    {
     "data": {
      "text/plain": [
       "array([[0., 0., 0., 0.],\n",
       "       [0., 0., 0., 0.]])"
      ]
     },
     "execution_count": 117,
     "metadata": {},
     "output_type": "execute_result"
    }
   ],
   "source": [
    "np.zeros((2,4))"
   ]
  },
  {
   "cell_type": "code",
   "execution_count": 119,
   "id": "9aeb953e",
   "metadata": {},
   "outputs": [
    {
     "data": {
      "text/plain": [
       "array([[0.59539652, 0.27958925, 0.24344361, 0.90818161, 0.02105386],\n",
       "       [0.75896852, 0.35818034, 0.61384386, 0.64397423, 0.47899265],\n",
       "       [0.97450413, 0.53146345, 0.76227619, 0.30887943, 0.93707496]])"
      ]
     },
     "execution_count": 119,
     "metadata": {},
     "output_type": "execute_result"
    }
   ],
   "source": [
    "np.random.rand(3,5)"
   ]
  },
  {
   "cell_type": "code",
   "execution_count": 120,
   "id": "068e139a",
   "metadata": {},
   "outputs": [],
   "source": [
    "a = np.zeros((1,4))\n",
    "b = np.zeros((4,3))"
   ]
  },
  {
   "cell_type": "code",
   "execution_count": 121,
   "id": "1bd938e3",
   "metadata": {},
   "outputs": [
    {
     "data": {
      "text/plain": [
       "array([[0., 0., 0., 0.]])"
      ]
     },
     "execution_count": 121,
     "metadata": {},
     "output_type": "execute_result"
    }
   ],
   "source": [
    "a"
   ]
  },
  {
   "cell_type": "code",
   "execution_count": 122,
   "id": "90bb413e",
   "metadata": {},
   "outputs": [
    {
     "data": {
      "text/plain": [
       "array([[0., 0., 0.],\n",
       "       [0., 0., 0.],\n",
       "       [0., 0., 0.],\n",
       "       [0., 0., 0.]])"
      ]
     },
     "execution_count": 122,
     "metadata": {},
     "output_type": "execute_result"
    }
   ],
   "source": [
    "b"
   ]
  },
  {
   "cell_type": "code",
   "execution_count": 123,
   "id": "62f0f72f",
   "metadata": {},
   "outputs": [],
   "source": [
    "c = a.dot(b)"
   ]
  },
  {
   "cell_type": "code",
   "execution_count": 124,
   "id": "ced87877",
   "metadata": {},
   "outputs": [
    {
     "data": {
      "text/plain": [
       "array([[0., 0., 0.]])"
      ]
     },
     "execution_count": 124,
     "metadata": {},
     "output_type": "execute_result"
    }
   ],
   "source": [
    "c"
   ]
  },
  {
   "cell_type": "code",
   "execution_count": 125,
   "id": "21c76b1b",
   "metadata": {},
   "outputs": [
    {
     "data": {
      "text/plain": [
       "(1, 3)"
      ]
     },
     "execution_count": 125,
     "metadata": {},
     "output_type": "execute_result"
    }
   ],
   "source": [
    "c.shape"
   ]
  },
  {
   "cell_type": "code",
   "execution_count": null,
   "id": "531c894b",
   "metadata": {},
   "outputs": [],
   "source": []
  }
 ],
 "metadata": {
  "kernelspec": {
   "display_name": "Python 3 (ipykernel)",
   "language": "python",
   "name": "python3"
  },
  "language_info": {
   "codemirror_mode": {
    "name": "ipython",
    "version": 3
   },
   "file_extension": ".py",
   "mimetype": "text/x-python",
   "name": "python",
   "nbconvert_exporter": "python",
   "pygments_lexer": "ipython3",
   "version": "3.9.7"
  }
 },
 "nbformat": 4,
 "nbformat_minor": 5
}
