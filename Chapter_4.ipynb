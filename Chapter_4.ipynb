{
 "cells": [
  {
   "cell_type": "code",
   "execution_count": 1,
   "id": "5a910db2",
   "metadata": {},
   "outputs": [],
   "source": [
    "import numpy as np"
   ]
  },
  {
   "cell_type": "code",
   "execution_count": 10,
   "id": "f8f4138b",
   "metadata": {},
   "outputs": [
    {
     "name": "stdout",
     "output_type": "stream",
     "text": [
      "error: 0.30250000000000005\n"
     ]
    }
   ],
   "source": [
    "knob_weight = 0.5\n",
    "inpt = 0.5\n",
    "goal_prediction = 0.8\n",
    "\n",
    "prediction = inpt * knob_weight\n",
    "error = (prediction - goal_prediction) ** 2\n",
    "print(f'error: {error}')"
   ]
  },
  {
   "cell_type": "code",
   "execution_count": 57,
   "id": "7ed08c7c",
   "metadata": {},
   "outputs": [
    {
     "name": "stdout",
     "output_type": "stream",
     "text": [
      "Error:125.43999999999998 Prediction:0.0\n",
      "Error:64.624106143744 Prediction:3.161088\n",
      "Error:33.29300936605461 Prediction:5.42999052288\n",
      "Error:17.15187317535535 Prediction:7.058517997702349\n",
      "Error:8.836292033228627 Prediction:8.227409878030839\n",
      "Error:4.552275783422249 Prediction:9.066393714055414\n",
      "Error:2.3452387868580598 Prediction:9.668582752200413\n",
      "Error:1.208218752346465 Prediction:10.100809956219369\n",
      "Error:0.6224494331672494 Prediction:10.411045354176014\n",
      "Error:0.32067313646455337 Prediction:10.633719913413376\n",
      "Error:0.16520419968377473 Prediction:10.793546805051584\n",
      "Error:0.08510980337815995 Prediction:10.908264154793827\n",
      "Error:0.04384681893641161 Prediction:10.990603679744815\n",
      "Error:0.02258897864327357 Prediction:11.049703697173637\n",
      "Error:0.011637376861620129 Prediction:11.092123325683351\n",
      "Error:0.005995337033961195 Prediction:11.122570438242482\n",
      "Error:0.003088674241471953 Prediction:11.144424157752923\n",
      "Error:0.0015912213968775697 Prediction:11.160109883468738\n",
      "Error:0.0008197645125160638 Prediction:11.171368469958521\n",
      "Error:0.0004223258041271676 Prediction:11.179449432997428\n",
      "Error:0.00021757356180767169 Prediction:11.185249625028234\n",
      "Error:0.00011208942085726988 Prediction:11.189412770860264\n",
      "Error:5.7746162556353604e-05 Prediction:11.192400910412664\n",
      "Error:2.974963439442273e-05 Prediction:11.194545677457793\n",
      "Error:1.5326399321126335e-05 Prediction:11.196085105452106\n",
      "Error:7.895845476169535e-06 Prediction:11.197190045289302\n",
      "Error:4.067777073868938e-06 Prediction:11.19798312690685\n",
      "Error:2.0956350238455832e-06 Prediction:11.19855236916866\n",
      "Error:1.0796280310870986e-06 Prediction:11.198960948494497\n",
      "Error:5.56202140281252e-07 Prediction:11.199254210391409\n",
      "Error:2.865438946979239e-07 Prediction:11.199464702050538\n",
      "Error:1.4762151678769957e-07 Prediction:11.199615784543793\n",
      "Error:7.605156704284973e-08 Prediction:11.199724225514155\n",
      "Error:3.918020201681002e-08 Prediction:11.19980206010504\n",
      "Error:2.0184833656395584e-08 Prediction:11.199857926660993\n",
      "Error:1.0398810847284569e-08 Prediction:11.199898025440195\n",
      "Error:5.357253315992441e-09 Prediction:11.199926806739954\n",
      "Error:2.7599466432809582e-09 Prediction:11.19994746480567\n",
      "Error:1.4218677043100067e-09 Prediction:11.199962292338917\n",
      "Error:7.325169757483702e-10 Prediction:11.199972934949182\n",
      "Error:3.7737766894383e-10 Prediction:11.199980573789125\n",
      "Error:1.944172077143935e-10 Prediction:11.199986056642881\n",
      "Error:1.0015974382812305e-10 Prediction:11.199989992015995\n",
      "Error:5.160023849154548e-11 Prediction:11.1999928166694\n",
      "Error:2.6583380811938436e-11 Prediction:11.199994844092629\n",
      "Error:1.3695210642211076e-11 Prediction:11.199996299295925\n",
      "Error:7.0554906438530664e-12 Prediction:11.199997343782643\n",
      "Error:3.6348435568463465e-12 Prediction:11.19999809347343\n",
      "Error:1.872596587151486e-12 Prediction:11.19999863157149\n",
      "Error:9.647232213872055e-13 Prediction:11.19999901779675\n"
     ]
    }
   ],
   "source": [
    "weight = 0.0\n",
    "goal_pred = 11.2\n",
    "inpt = 168\n",
    "alpha = 0.00001\n",
    "errors = []\n",
    "\n",
    "for iteration in range(50):\n",
    "    pred = inpt * weight\n",
    "    error = (pred - goal_pred) ** 2\n",
    "    delta = pred - goal_pred\n",
    "    weight_delta = delta * inpt\n",
    "    weight = weight - alpha * weight_delta\n",
    "    print(\"Error:\" + str(error) + \" Prediction:\" + str(pred))\n",
    "    errors.append(error)"
   ]
  },
  {
   "cell_type": "code",
   "execution_count": 58,
   "id": "0a28cfbd",
   "metadata": {},
   "outputs": [],
   "source": [
    "import matplotlib.pyplot as plt\n",
    "%matplotlib inline"
   ]
  },
  {
   "cell_type": "code",
   "execution_count": 63,
   "id": "0438837d",
   "metadata": {},
   "outputs": [
    {
     "data": {
      "image/png": "[encoded data removed]",
      "text/plain": [
       "<Figure size 432x288 with 1 Axes>"
      ]
     },
     "metadata": {
      "needs_background": "light"
     },
     "output_type": "display_data"
    }
   ],
   "source": [
    "fig, ax = plt.subplots()\n",
    "ax.plot(range(1,51), errors)\n",
    "plt.show()"
   ]
  },
  {
   "cell_type": "code",
   "execution_count": null,
   "id": "e13d5ca2",
   "metadata": {},
   "outputs": [],
   "source": []
  }
 ],
 "metadata": {
  "kernelspec": {
   "display_name": "Python 3 (ipykernel)",
   "language": "python",
   "name": "python3"
  },
  "language_info": {
   "codemirror_mode": {
    "name": "ipython",
    "version": 3
   },
   "file_extension": ".py",
   "mimetype": "text/x-python",
   "name": "python",
   "nbconvert_exporter": "python",
   "pygments_lexer": "ipython3",
   "version": "3.9.7"
  }
 },
 "nbformat": 4,
 "nbformat_minor": 5
}
